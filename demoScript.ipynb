{
 "cells": [
  {
   "cell_type": "markdown",
   "metadata": {},
   "source": [
    "# MMSP Demo Script\n",
    "This is a demo script for the paper -- \"A Sharpness Based Loss Function for Removing Out-of-Focus Blur\""
   ]
  },
  {
   "cell_type": "code",
   "execution_count": null,
   "metadata": {},
   "outputs": [],
   "source": [
    "import os\n",
    "os.environ[\"CUDA_VISIBLE_DEVICES\"]=\"0\"\n",
    "import numpy as np\n",
    "import pandas as pd\n",
    "os.environ['TF_CPP_MIN_LOG_LEVEL'] = '2'\n",
    "import keras\n",
    "import numpy as np \n",
    "keras.utils.set_random_seed(0)\n",
    "np.random.seed(0)\n",
    "import tensorflow as tf\n",
    "import sys\n",
    "import matplotlib.pyplot as plt\n",
    "from sklearn.model_selection import train_test_split\n",
    "from tensorflow.keras.callbacks import EarlyStopping, ModelCheckpoint\n",
    "from tensorflow.keras.preprocessing.image import ImageDataGenerator, load_img, img_to_array\n",
    "from keras.models import Model\n",
    "from tqdm.notebook import tqdm #.notebook \n",
    "import time \n",
    "from tensorflow.keras.layers import Conv2D, Conv2DTranspose, MaxPool2D, Flatten, Dense, concatenate, Reshape, UpSampling2D, Activation\n",
    "from tensorflow.keras.layers import Dropout, BatchNormalization, Input, GlobalAveragePooling2D, MaxPooling2D, Concatenate\n",
    "from keras.models import load_model\n",
    "from dataGeneration import *\n",
    "from restorationNetwork import *\n",
    "import cv2 \n",
    "from correctedQ_TF import *\n",
    "from tensorflow.image import psnr, ssim\n",
    "from contextlib import redirect_stdout\n",
    "import datetime\n",
    "import PIL.Image\n",
    "import concurrent.futures\n",
    "import time\n",
    "from keras.preprocessing.image import load_img, img_to_array, save_img\n",
    "import os"
   ]
  },
  {
   "cell_type": "markdown",
   "metadata": {},
   "source": [
    "## Directory Setup"
   ]
  },
  {
   "cell_type": "code",
   "execution_count": null,
   "metadata": {},
   "outputs": [],
   "source": [
    "# Defining clean folder path\n",
    "CLEAN_IMG_PATH = 'CleanImages'\n",
    "\n",
    "# Defining path for storing blurry images\n",
    "BLURRY_IMG_PATH = 'BlurryImages'\n",
    "\n",
    "# Create folder if not created\n",
    "if (os.path.exists(BLURRY_IMG_PATH) == False):\n",
    "    os.mkdir(BLURRY_IMG_PATH)"
   ]
  },
  {
   "cell_type": "markdown",
   "metadata": {},
   "source": [
    "## Generate Degraded Images"
   ]
  },
  {
   "cell_type": "code",
   "execution_count": null,
   "metadata": {},
   "outputs": [],
   "source": [
    "# Function to generate blurry images\n",
    "def blurImages(filename, kernel_size):\n",
    "    CLEAN_IMG_PATH = 'CleanImages'\n",
    "    BLURRY_IMG_PATH = 'BlurryImages'\n",
    "\n",
    "    # Load image\n",
    "    I_original = PIL.Image.open(CLEAN_IMG_PATH + '/' + filename)\n",
    "\n",
    "    # Blur image\n",
    "    I_blurry = cv2.blur(\n",
    "        np.array(I_original), \n",
    "        (kernel_size, kernel_size)\n",
    "        )\n",
    "    \n",
    "    I_degraded = PIL.Image.fromarray(I_blurry)\n",
    "    I_degraded.save(BLURRY_IMG_PATH + '/' + filename)\n",
    "\n",
    "# Handler for blurrying images\n",
    "def blurImages_args(args):\n",
    "    return blurImages(*args)\n",
    "\n",
    "clean_images = os.listdir(CLEAN_IMG_PATH)\n",
    "blur_params = [(file_name, 5) for file_name in clean_images]\n",
    "\n",
    "with concurrent.futures.ProcessPoolExecutor() as executor:\n",
    "    executor.map(blurImages_args, blur_params)"
   ]
  },
  {
   "cell_type": "markdown",
   "metadata": {},
   "source": [
    "# Restore image with Pure MAE Net"
   ]
  },
  {
   "cell_type": "code",
   "execution_count": null,
   "metadata": {},
   "outputs": [],
   "source": [
    "# Set path for pre-trained model\n",
    "pureMAE_model_PATH = 'preTrainedModels/pureMAE_model.h5'\n",
    "\n",
    "# Set restored path\n",
    "RESTORED_PATH = 'RestoredImages'\n",
    "if(os.path.exists(RESTORED_PATH) == False):\n",
    "    os.mkdir(RESTORED_PATH)\n",
    "\n",
    "# Load restoration model\n",
    "pureMAE_model = load_model(\n",
    "    pureMAE_model_PATH,\n",
    "    custom_objects={\n",
    "        'PSNRMetric' : PSNRMetric,\n",
    "        'SSIMMetric' : SSIMMetric\n",
    "    }\n",
    ")\n",
    "\n",
    "for filename in tqdm(os.listdir(BLURRY_IMG_PATH), desc='Restoring Blurry Images'):\n",
    "    # Load image\n",
    "    I_blurry = load_img(os.path.join(BLURRY_IMG_PATH, filename), color_mode = 'grayscale')\n",
    "    I_blurry_array = img_to_array(I_blurry)\n",
    "    I_blurry_array = np.array([I_blurry_array]) / 255.0\n",
    "\n",
    "    # Restore Image\n",
    "    I_restored = pureMAE_model.predict(I_blurry_array)\n",
    "    I_restored = np.clip(I_restored, 0, 1)\n",
    "\n",
    "    # Normalize restored image\n",
    "    I_restored_scaled = (I_restored[0] * 255).astype('uint8')\n",
    "\n",
    "    # Create new extension for restored image\n",
    "    new_filename = filename[:-4] + '_pureMAE_restored.png'\n",
    "    save_img(\n",
    "        os.path.join(RESTORED_PATH, new_filename),\n",
    "        I_restored_scaled,\n",
    "        scale = False\n",
    "    )"
   ]
  },
  {
   "cell_type": "markdown",
   "metadata": {},
   "source": [
    "## Restore image with Fine-Tuned Models"
   ]
  },
  {
   "cell_type": "code",
   "execution_count": null,
   "metadata": {},
   "outputs": [],
   "source": [
    "# Set path for fine-tuned models (two versions)\n",
    "fineTunedE9_model_PATH = 'preTrainedModels/fineTunedModel_E9.h5'\n",
    "fineTunedE11_model_PATH = 'preTrainedModels/fineTunedModel_E11.h5'\n",
    "MAE_loss = keras.losses.MeanAbsoluteError()"
   ]
  },
  {
   "cell_type": "code",
   "execution_count": null,
   "metadata": {},
   "outputs": [],
   "source": [
    "def QMetric(y_true, y_pred):\n",
    "    return -1 * compute_Q_TF(y_pred)\n",
    "\n",
    "def wrapperLoss(y, X):\n",
    "    pass\n",
    "    # mae_loss_val = MAE_loss(X, y)\n",
    "    # kappa =  0.01\n",
    "    # Q_val = -1 * compute_Q_TF_withCD(X)\n",
    "    # final_loss = mae_loss_val + kappa * Q_val\n",
    "    # return final_loss"
   ]
  },
  {
   "cell_type": "code",
   "execution_count": null,
   "metadata": {},
   "outputs": [],
   "source": [
    "\n",
    "# Set restored path\n",
    "RESTORED_PATH = 'RestoredImages'\n",
    "if(os.path.exists(RESTORED_PATH) == False):\n",
    "    os.mkdir(RESTORED_PATH)\n",
    "\n",
    "# Load restoration model (E9)\n",
    "fineTunedE9_model = load_model(\n",
    "    fineTunedE9_model_PATH,\n",
    "    custom_objects={\n",
    "        'PSNRMetric' : PSNRMetric,\n",
    "        'SSIMMetric' : SSIMMetric,\n",
    "        'QMetric' : QMetric,\n",
    "        'wrapperLoss' : wrapperLoss\n",
    "    }\n",
    ")\n",
    "\n",
    "# Load restoration model (E11)\n",
    "fineTunedE11_model = load_model(\n",
    "    fineTunedE11_model_PATH,\n",
    "    custom_objects={\n",
    "        'PSNRMetric' : PSNRMetric,\n",
    "        'SSIMMetric' : SSIMMetric,\n",
    "        'QMetric' : QMetric,\n",
    "        'wrapperLoss' : wrapperLoss\n",
    "    }\n",
    ")\n",
    "\n",
    "\n",
    "for filename in tqdm(os.listdir(BLURRY_IMG_PATH), desc='Restoring Blurry Images'):\n",
    "    # Load image\n",
    "    I_blurry = load_img(os.path.join(BLURRY_IMG_PATH, filename), color_mode = 'grayscale')\n",
    "    I_blurry_array = img_to_array(I_blurry)\n",
    "    I_blurry_array = np.array([I_blurry_array]) / 255.0\n",
    "\n",
    "    # Restore Image (E9)\n",
    "    I_restored_E9 = fineTunedE9_model.predict(I_blurry_array)\n",
    "    I_restored_E9 = np.clip(I_restored_E9, 0, 1)\n",
    "\n",
    "    # Restore Image (E11)\n",
    "    I_restored_E11 = fineTunedE11_model.predict(I_blurry_array)\n",
    "    I_restored_E11 = np.clip(I_restored_E11, 0, 1)\n",
    "\n",
    "    # Normalize restored image\n",
    "    I_restored_scaled_E9 = (I_restored_E9[0] * 255).astype('uint8')\n",
    "    I_restored_scaled_E11 = (I_restored_E11[0] * 255).astype('uint8')\n",
    "\n",
    "    # Create new extension for restored image\n",
    "    new_filename = filename[:-4] + '_FTE9_restored.png'\n",
    "    new_filename_E11 = filename[:-4] + '_FTE11_restored.png'\n",
    "\n",
    "    save_img(\n",
    "        os.path.join(RESTORED_PATH, new_filename),\n",
    "        I_restored_scaled_E9,\n",
    "        scale = False\n",
    "    )\n",
    "\n",
    "    save_img(\n",
    "        os.path.join(RESTORED_PATH, new_filename_E11),\n",
    "        I_restored_scaled_E11,\n",
    "        scale = False\n",
    "    )"
   ]
  },
  {
   "cell_type": "code",
   "execution_count": null,
   "metadata": {},
   "outputs": [],
   "source": []
  }
 ],
 "metadata": {
  "kernelspec": {
   "display_name": "dataGen",
   "language": "python",
   "name": "python3"
  },
  "language_info": {
   "codemirror_mode": {
    "name": "ipython",
    "version": 3
   },
   "file_extension": ".py",
   "mimetype": "text/x-python",
   "name": "python",
   "nbconvert_exporter": "python",
   "pygments_lexer": "ipython3",
   "version": "3.9.18"
  }
 },
 "nbformat": 4,
 "nbformat_minor": 2
}
